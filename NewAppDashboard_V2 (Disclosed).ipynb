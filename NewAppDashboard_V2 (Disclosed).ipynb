{
 "cells": [
  {
   "cell_type": "code",
   "execution_count": 1,
   "metadata": {},
   "outputs": [],
   "source": [
    "import requests\n",
    "import pandas as pd\n",
    "import numpy as np\n",
    "import json\n",
    "import pprint\n",
    "import io\n",
    "from datetime import date, timedelta, datetime\n",
    "import json\n",
    "import urllib3\n",
    "import re\n",
    "import gspread\n",
    "from unidecode import unidecode\n",
    "from oauth2client.service_account import ServiceAccountCredentials\n",
    "from sklearn.preprocessing import OneHotEncoder\n",
    "from sklearn import preprocessing\n",
    "import cx_Oracle\n",
    "import sys\n",
    "\n",
    "ddc_day_fun = date.today() - timedelta(days=3)\n",
    "yester_day_fun = date.today() - timedelta(days=1)\n",
    "today_fun = date.today()\n",
    "today_fun_dolar = date.today().strftime('%m-%d-%Y')\n",
    "last_week_fun = date.today() - timedelta(days=7)"
   ]
  },
  {
   "cell_type": "code",
   "execution_count": 2,
   "metadata": {},
   "outputs": [
    {
     "name": "stdout",
     "output_type": "stream",
     "text": [
      "2021-11-29\n"
     ]
    }
   ],
   "source": [
    "print(ddc_day_fun)"
   ]
  },
  {
   "cell_type": "code",
   "execution_count": 4,
   "metadata": {},
   "outputs": [],
   "source": [
    "#  'from': last_week_fun,\n",
    "#  'to': yester_day_fun,"
   ]
  },
  {
   "cell_type": "code",
   "execution_count": 5,
   "metadata": {},
   "outputs": [],
   "source": [
    "import requests\n",
    "import pandas as pd\n",
    "import numpy as np\n",
    "import json\n",
    "import pprint\n",
    "import io\n",
    "from datetime import date, timedelta\n",
    "import json\n",
    "import urllib3\n",
    "import re\n",
    "import gspread\n",
    "from unidecode import unidecode\n",
    "from oauth2client.service_account import ServiceAccountCredentials\n",
    "from sklearn.preprocessing import OneHotEncoder\n",
    "from sklearn import preprocessing\n",
    "import cx_Oracle\n",
    "import sys\n",
    "\n",
    "with open(r'./creds.json') as f:\n",
    "  data = json.load(f)\n",
    "\n",
    "yester_day_fun = date.today() - timedelta(days=1)\n",
    "today_fun = date.today()\n",
    "last_week_fun = date.today() - timedelta(days=7)\n",
    "android_id = ''\n",
    "ios_id = ''\n",
    "installs_rep = 'installs_report'\n",
    "inapp_rep = 'in_app_events_report'\n",
    "org_installs_rep = 'organic_installs_report'\n",
    "org_inapp_rep = 'organic_in_app_events_report'\n",
    "\n",
    "params = {\n",
    "  'api_token': '',\n",
    "  'from': ddc_day_fun,\n",
    "  'to': yester_day_fun,\n",
    "  'maximum_rows': '1000000'\n",
    "}\n",
    "\n",
    "req_installs_android = 'https://hq.appsflyer.com/export/{}/{}/v5'.format(android_id, installs_rep)\n",
    "req_installs_ios = 'https://hq.appsflyer.com/export/{}/{}/v5'.format(ios_id, installs_rep)\n",
    "req_inapp_android = 'https://hq.appsflyer.com/export/{}/{}/v5'.format(android_id, inapp_rep)\n",
    "req_inapp_ios = 'https://hq.appsflyer.com/export/{}/{}/v5'.format(ios_id, inapp_rep)\n",
    "req_org_installs_android = 'https://hq.appsflyer.com/export/{}/{}/v5'.format(android_id, org_installs_rep)\n",
    "req_org_installs_ios = 'https://hq.appsflyer.com/export/{}/{}/v5'.format(ios_id, org_installs_rep)\n",
    "req_org_inapp_android = 'https://hq.appsflyer.com/export/{}/{}/v5'.format(android_id, org_inapp_rep)\n",
    "req_org_inapp_ios = 'https://hq.appsflyer.com/export/{}/{}/v5'.format(ios_id, org_inapp_rep)\n",
    "\n",
    "res_installs_android = requests.request('GET', req_installs_android, params=params)\n",
    "res_installs_ios = requests.request('GET', req_installs_ios, params=params)\n",
    "res_inapp_android = requests.request('GET', req_inapp_android, params=params)\n",
    "res_inapp_ios = requests.request('GET', req_inapp_ios, params=params)\n",
    "res_org_installs_android = requests.request('GET', req_org_installs_android, params=params)\n",
    "res_org_installs_ios = requests.request('GET', req_org_installs_ios, params=params)\n",
    "res_org_inapp_android = requests.request('GET', req_org_inapp_android, params=params)\n",
    "res_org_inapp_ios = requests.request('GET', req_org_inapp_ios, params=params)"
   ]
  },
  {
   "cell_type": "code",
   "execution_count": 6,
   "metadata": {},
   "outputs": [],
   "source": [
    "if res_inapp_android.status_code != 200:\n",
    "  if res_inapp_android.status_code == 404:\n",
    "    print('There is a problem with InApp Android request URL. Make sure that it is correct')\n",
    "  else:\n",
    "    print('There was a problem retrieving data: ', res_inapp_android.text)\n",
    "else:\n",
    "    df_inapp_android = pd.read_csv(io.StringIO(res_inapp_android.text), low_memory=False)\n",
    "        \n",
    "if res_inapp_ios.status_code != 200:\n",
    "  if res_inapp_ios.status_code == 404:\n",
    "    print('There is a problem with InApp iOS request URL. Make sure that it is correct')\n",
    "  else:\n",
    "    print('There was a problem retrieving data: ', res_inapp_ios.text)\n",
    "else:\n",
    "    df_inapp_ios = pd.read_csv(io.StringIO(res_inapp_ios.text), low_memory=False)\n",
    "        \n",
    "if res_org_inapp_android.status_code != 200:\n",
    "  if res_org_inapp_android.status_code == 404:\n",
    "    print('There is a problem with Organic InApp Android request URL. Make sure that it is correct')\n",
    "  else:\n",
    "    print('There was a problem retrieving data: ', res_org_inapp_android.text)\n",
    "else:\n",
    "    df_org_inapp_android = pd.read_csv(io.StringIO(res_org_inapp_android.text), low_memory=False)\n",
    "        \n",
    "if res_org_inapp_ios.status_code != 200:\n",
    "  if res_org_inapp_ios.status_code == 404:\n",
    "    print('There is a problem with Organic InApp iOS request URL. Make sure that it is correct')\n",
    "  else:\n",
    "    print('There was a problem retrieving data: ', res_org_inapp_ios.text)\n",
    "else:\n",
    "    df_org_inapp_ios = pd.read_csv(io.StringIO(res_org_inapp_ios.text), low_memory=False)"
   ]
  },
  {
   "cell_type": "code",
   "execution_count": 7,
   "metadata": {},
   "outputs": [],
   "source": [
    "if res_installs_android.status_code != 200:\n",
    "  if res_installs_android.status_code == 404:\n",
    "    print('There is a problem with Installs Android request URL. Make sure that it is correct')\n",
    "  else:\n",
    "    print('There was a problem retrieving data: ', res_installs_android.text)\n",
    "else:\n",
    "    df_installs_android = pd.read_csv(io.StringIO(res_installs_android.text), low_memory=False)\n",
    "        \n",
    "if res_installs_ios.status_code != 200:\n",
    "  if res_installs_ios.status_code == 404:\n",
    "    print('There is a problem with Installs iOS request URL. Make sure that it is correct')\n",
    "  else:\n",
    "    print('There was a problem retrieving data: ', res_installs_ios.text)\n",
    "else:\n",
    "    df_installs_ios = pd.read_csv(io.StringIO(res_installs_ios.text), low_memory=False)\n",
    "        \n",
    "if res_org_installs_android.status_code != 200:\n",
    "  if res_org_installs_android.status_code == 404:\n",
    "    print('There is a problem with Organic Installs Android request URL. Make sure that it is correct')\n",
    "  else:\n",
    "    print('There was a problem retrieving data: ', res_org_installs_android.text)\n",
    "else:\n",
    "    df_org_installs_android = pd.read_csv(io.StringIO(res_org_installs_android.text), low_memory=False)\n",
    "        \n",
    "if res_org_installs_ios.status_code != 200:\n",
    "  if res_org_installs_ios.status_code == 404:\n",
    "    print('There is a problem with Organic Installs iOS request URL. Make sure that it is correct')\n",
    "  else:\n",
    "    print('There was a problem retrieving data: ', res_org_installs_ios.text)\n",
    "else:\n",
    "    df_org_installs_ios = pd.read_csv(io.StringIO(res_org_installs_ios.text), low_memory=False)"
   ]
  },
  {
   "cell_type": "code",
   "execution_count": 8,
   "metadata": {},
   "outputs": [],
   "source": [
    "#CONFIGURANDO API GOOGLE SHEETS\n",
    "#DEFININDO OS DOMÍNIOS PARA CREDENCIAR NO SCOPE\n",
    "scope = [\"https://spreadsheets.google.com/feeds\",'https://www.googleapis.com/auth/spreadsheets',\"https://www.googleapis.com/auth/drive.file\",\"https://www.googleapis.com/auth/drive\"]\n",
    "\n",
    "#LENDO AS CREDENCIAIS VIA BIBLIOTECA DO GOOGLE\n",
    "creds = ServiceAccountCredentials.from_json_keyfile_name('file.json', scope)\n",
    "\n",
    "#AUTORIZANDO CREDENCIAIS VIA GSPREAD\n",
    "client = gspread.authorize(creds)\n",
    "\n",
    "#LENDO OS DADOS DAS TABELAS E INCORPORANDO NO DATAFRAME\n",
    "sheet1 = client.open('spreadsheet1').worksheet('ws1')\n",
    "data_1 = sheet1.get_all_records()\n",
    "data_1x = pd.DataFrame(data_1)\n",
    "sheet2 = client.open('spreadsheet2').worksheet('ws1')\n",
    "data_2 = sheet2.get_all_records()\n",
    "data_2x = pd.DataFrame(data_2)"
   ]
  },
  {
   "cell_type": "code",
   "execution_count": 9,
   "metadata": {},
   "outputs": [],
   "source": [
    "cx_Oracle.init_oracle_client(lib_dir=\"C:\\oracle\\instantclient_19_8\", config_dir=\"C:\\oracle\\instantclient_19_8\")\n",
    "\n",
    "pw = \"\"\n",
    "conn = cx_Oracle.connect(\"\", pw, \"\", encoding=\"UTF-8\")\n",
    "c = conn.cursor()"
   ]
  },
  {
   "cell_type": "code",
   "execution_count": 1,
   "metadata": {
    "collapsed": true
   },
   "outputs": [
    {
     "ename": "NameError",
     "evalue": "name 'pd' is not defined",
     "output_type": "error",
     "traceback": [
      "\u001b[1;31m---------------------------------------------------------------------------\u001b[0m",
      "\u001b[1;31mNameError\u001b[0m                                 Traceback (most recent call last)",
      "\u001b[1;32m<ipython-input-1-dc2171cf4678>\u001b[0m in \u001b[0;36m<module>\u001b[1;34m\u001b[0m\n\u001b[0;32m     20\u001b[0m \u001b[1;31m#TO_DATE('2020-11-13','YYYY-MM-DD')\u001b[0m\u001b[1;33m\u001b[0m\u001b[1;33m\u001b[0m\u001b[1;33m\u001b[0m\u001b[0m\n\u001b[0;32m     21\u001b[0m \u001b[1;33m\u001b[0m\u001b[0m\n\u001b[1;32m---> 22\u001b[1;33m \u001b[0mSQL_Pedidos\u001b[0m \u001b[1;33m=\u001b[0m \u001b[0mpd\u001b[0m\u001b[1;33m.\u001b[0m\u001b[0mread_sql_query\u001b[0m\u001b[1;33m(\u001b[0m\u001b[0msql_pedidos_x\u001b[0m\u001b[1;33m,\u001b[0m \u001b[0mconn\u001b[0m\u001b[1;33m,\u001b[0m \u001b[0mparams\u001b[0m\u001b[1;33m=\u001b[0m\u001b[1;33m{\u001b[0m\u001b[1;34m'name1'\u001b[0m\u001b[1;33m:\u001b[0m \u001b[0mddc_day_fun\u001b[0m\u001b[1;33m,\u001b[0m \u001b[1;34m'name2'\u001b[0m\u001b[1;33m:\u001b[0m \u001b[0mtoday_fun\u001b[0m\u001b[1;33m}\u001b[0m\u001b[1;33m)\u001b[0m\u001b[1;33m\u001b[0m\u001b[1;33m\u001b[0m\u001b[0m\n\u001b[0m\u001b[0;32m     23\u001b[0m \u001b[1;31m#SQL_Pedidos = pd.read_sql_query(sql_pedidos, conn)\u001b[0m\u001b[1;33m\u001b[0m\u001b[1;33m\u001b[0m\u001b[1;33m\u001b[0m\u001b[0m\n\u001b[0;32m     24\u001b[0m \u001b[1;33m\u001b[0m\u001b[0m\n",
      "\u001b[1;31mNameError\u001b[0m: name 'pd' is not defined"
     ]
    }
   ],
   "source": [
    "#DISCLOSED\n",
    "date1 = \"TO_DATE('2020-08-31','YYYY-MM-DD')\"\n",
    "date2 = \"TO_DATE('2020-10-02','YYYY-MM-DD')\"\n",
    "\n",
    "sql_pedidos_x = '''SELECT V_ORDER_ALL.LOG_SEARCH_ID \"Pesquisa\", V_ORDER_ALL.ID_ORDER \"Pedido\", V_ORDER_ALL.CUSTOMER_ID \"ID Cliente\", V_ORDER_ALL.CUSTOMER \"Cliente\", V_ORDER_ALL.TELEPHONE_CUSTOMER \"Telefone\", V_ORDER_ALL.ORDER_DATE \"Data\", V_ORDER_ALL.MARKET_RESELLER \"Mercado\", V_ORDER_ALL.CORE_RESELLER \"Núcleo\", V_ORDER_ALL.MICRO_MARKET_RESELLER \"Micro Mercado\", V_ORDER_ALL.CNPJ_RESELLER \"CNPJ\", V_ORDER_ALL.COMPANY_NAME_RESELLER \"Nome Fantasia\", V_ORDER_ALL.ORDER_ADDRESS \"Endereço\", V_ORDER_ALL.ORDER_ADDRESS_NUMBER \"Nº\", V_ORDER_ALL.ORDER_ADDRESS_COMPLEMENT \"Complemento\", V_ORDER_ALL.ORDER_ADDRESS_NEIGHBORHOOD \"Bairro\", V_ORDER_ALL.ORDER_ADDRESS_REFERENCE \"Referência\", V_ORDER_ALL.ZIPCODE_CUSTOMER \"CEP\", V_ORDER_ALL.CITY_RESELLER \"Cidade\", V_ORDER_ALL.UF_RESELLER \"UF\", V_ORDER_ALL.CHANNEL \"Canal\", V_ORDER_ALL.ORDER_VOUCHER_PARTNER \"Código Parceiro\", V_ORDER_ALL.SOURCE_ACCESS \"Origem Acesso\", V_ORDER_ALL.SOURCE \"Modo\", V_ORDER_ALL.ORDER_STATUS_DESCR \"Status\", TB_ORDER.DELIVERY_DATE \"Data Entrega\", V_ORDER_ALL.ORDER_RAITING \"Avaliação\", V_ORDER_ALL.PRODUCT \"Produto\", V_ORDER_ALL.PRODUCT_PRICE \"Preço\", V_ORDER_ALL.PRODUCT_QUANTITY \"Quantidade\", V_ORDER_ALL.ORDER_PACKING \"Vasilhame\", V_ORDER_ALL.ORDER_PACKING_COST \"Preço Vasilhame\", V_ORDER_ALL.ORDER_PAYMENT_METHOD \"Forma Pagto\", V_ORDER_ALL.ORDER_TOTAL \"Valor Pedido\", V_ORDER_ALL.ORDER_FEE \"Taxa uso Plataforma (%)\", V_ORDER_ALL.ORDER_FEE_TOTAL \"Taxa uso Plataforma (R$)\", V_ORDER_ALL.ORDER_VOUCHER_CODE \"Vale Gás\", V_ORDER_ALL.ORDER_VOUCHER_TYPE \"Tipo Vale Gás\", V_ORDER_ALL.COUPON \"Cupom\", V_ORDER_ALL.COUPON_PARTNER \"Cupom Parceria\", V_ORDER_ALL.COUPON_PARTNER_NAME \"Cupom Nome Parceiro\", V_ORDER_ALL.COUPON_PARTNER_COST \"Cupom Custo Parceiro\", V_ORDER_ALL.ORDER_SHIP_PROMISSE_TIME \"Tempo Previsto Entrega\", V_ORDER_ALL.NAME_DELIVERYMAN \"Entregador\", V_ORDER_ALL.CANCELLATION_REASON \"Motivo Cancelamento\", V_ORDER_ALL.CANCELLATION_REASON_TYPE \"Justificativa Cancelamento\", V_ORDER_ALL.ORDER_CANCEL_DATE \"Data Cancelamento\", V_ORDER_ALL.ORDER_REDIRECT_RESELLER \"Pedido Remanejado\", V_ORDER_ALL.ORDER_CANCEL_USER \"Usuário Cancelamento\", V_ORDER_ALL.ORDER_ID_NEW_REDIRECT \"Novo Pedido\", V_ORDER_ALL.SESSION_ID \"Sessão\", V_ORDER_ALL.ORDER_CANCEL_SUB_REASON \"Sub Motivo Cancelamento\", V_ORDER_ALL.COMPANY_RESELLER \"Razão Social\", V_ORDER_ALL.ORDER_PAYMENT_ID \"Payment ID\"\n",
    "FROM V_ORDER_ALL\n",
    "    INNER JOIN TB_ORDER\n",
    "    ON V_ORDER_ALL.ID_ORDER = TB_ORDER.ID_ORDER\n",
    "WHERE V_ORDER_ALL.CHANNEL = 'App'\n",
    "AND ORDER_DATE > :name1\n",
    "AND ORDER_DATE < :name2\n",
    "'''\n",
    "\n",
    "## Usar para consultas diárias\n",
    "#, params={'name1': ddc_day_fun, 'name2': today_fun}\n",
    "\n",
    "## Usar para consultas semanais\n",
    "#, params={'name1': last_week_fun, 'name2': today_fun}\n",
    "\n",
    "## Usar para consultas maiores\n",
    "#TO_DATE('2020-11-13','YYYY-MM-DD')\n",
    "\n",
    "SQL_Pedidos = pd.read_sql_query(sql_pedidos_x, conn, params={'name1': ddc_day_fun, 'name2': today_fun})\n",
    "#SQL_Pedidos = pd.read_sql_query(sql_pedidos, conn)\n",
    "\n",
    "SQL_Pedidos"
   ]
  },
  {
   "cell_type": "code",
   "execution_count": 11,
   "metadata": {},
   "outputs": [],
   "source": [
    "#DISCLOSED\n",
    "pw = \"\"\n",
    "conn = cx_Oracle.connect(\"\", pw, \"\", encoding=\"UTF-8\")\n",
    "c = conn.cursor()"
   ]
  },
  {
   "cell_type": "code",
   "execution_count": 2,
   "metadata": {
    "collapsed": true
   },
   "outputs": [
    {
     "ename": "NameError",
     "evalue": "name 'pd' is not defined",
     "output_type": "error",
     "traceback": [
      "\u001b[1;31m---------------------------------------------------------------------------\u001b[0m",
      "\u001b[1;31mNameError\u001b[0m                                 Traceback (most recent call last)",
      "\u001b[1;32m<ipython-input-2-9bdf0cf55950>\u001b[0m in \u001b[0;36m<module>\u001b[1;34m\u001b[0m\n\u001b[0;32m      3\u001b[0m WHERE V_CUSTOMER_ALL.CHANNEL = 'App Ultragaz' '''\n\u001b[0;32m      4\u001b[0m \u001b[1;33m\u001b[0m\u001b[0m\n\u001b[1;32m----> 5\u001b[1;33m \u001b[0mSQL_Clientes\u001b[0m \u001b[1;33m=\u001b[0m \u001b[0mpd\u001b[0m\u001b[1;33m.\u001b[0m\u001b[0mread_sql_query\u001b[0m\u001b[1;33m(\u001b[0m\u001b[0msql_clientes\u001b[0m\u001b[1;33m,\u001b[0m \u001b[0mconn\u001b[0m\u001b[1;33m)\u001b[0m\u001b[1;33m\u001b[0m\u001b[1;33m\u001b[0m\u001b[0m\n\u001b[0m\u001b[0;32m      6\u001b[0m \u001b[1;33m\u001b[0m\u001b[0m\n\u001b[0;32m      7\u001b[0m \u001b[0mSQL_Clientes\u001b[0m\u001b[1;33m\u001b[0m\u001b[1;33m\u001b[0m\u001b[0m\n",
      "\u001b[1;31mNameError\u001b[0m: name 'pd' is not defined"
     ]
    }
   ],
   "source": [
    "#DISCLOSED\n",
    "sql_clientes = '''SELECT V_CUSTOMER_ALL.ID_CUSTOMER \"ID\", V_CUSTOMER_ALL.CUSTOMER \"Cliente\", V_CUSTOMER_ALL.TELEPHONE \"Telefone\", V_CUSTOMER_ALL.EMAIL \"Email\", V_CUSTOMER_ALL.ACCEPTED_TERM_DATE \"Criação\", V_CUSTOMER_ALL.CUSTOMER_LAST_UPDATE_DATE \"Última Interação\", V_CUSTOMER_ALL.STORE_RATING \"Avaliação Loja\", V_CUSTOMER_ALL.ACCEPTED_TERM_DATE \"Aceite Termos\", V_CUSTOMER_ALL.SUBSCRIPTION_CANCEL_DATE \"Cancelamento Assinatura\", V_CUSTOMER_ALL.CHANNEL \"Canal\", V_CUSTOMER_ALL.ADDRESS \"Endereço\", V_CUSTOMER_ALL.ADDRESS_NUMBER \"Nº\", V_CUSTOMER_ALL.COMPLEMENT \"Complemento\", V_CUSTOMER_ALL.NEIGHBORHOOD \"Bairro\", V_CUSTOMER_ALL.UF, V_CUSTOMER_ALL.CITY \"Cidade\", V_CUSTOMER_ALL.ADDRESS_MAIN \"Principal\", V_CUSTOMER_ALL.REFERENCE \"Referência\", V_CUSTOMER_ALL.QTD_PEDIDO \"Qtd Pedidos\", V_CUSTOMER_ALL.ULT_PEDIDO \"Último Pedido\", V_CUSTOMER_ALL.QTD_INTERACAO \"Qtd Interação\", V_CUSTOMER_ALL.ULT_INTERACAO \"Última Interação\", V_CUSTOMER_ALL.QTD_PESQUISA \"Qtd Pesquisas\", V_CUSTOMER_ALL.ULT_PESQUISA \"Última Pesquisa\", V_CUSTOMER_ALL.AUTH_TOKEN \"Auth Token\"\n",
    "FROM V_CUSTOMER_ALL\n",
    "WHERE V_CUSTOMER_ALL.CHANNEL = 'App' '''\n",
    "\n",
    "SQL_Clientes = pd.read_sql_query(sql_clientes, conn)\n",
    "\n",
    "SQL_Clientes"
   ]
  },
  {
   "cell_type": "code",
   "execution_count": 13,
   "metadata": {},
   "outputs": [],
   "source": [
    "#manter eventos estático\n",
    "df_eventos_procv = pd.read_csv(r'..\\DBs\\Novo App\\Consolidation\\Setembro\\eventos_procv.csv', encoding='latin-1', sep=';')\n",
    "\n",
    "#atualizar pedidos e clientes\n",
    "df_pedidos = SQL_Pedidos\n",
    "df_clientes = SQL_Clientes\n",
    "\n",
    "#manter fb e gads estático\n",
    "df_fb = data_1x\n",
    "df_gads = data_2x\n",
    "#df_fb_2sem = data_3x\n",
    "#df_gads_2sem = data_4x"
   ]
  },
  {
   "cell_type": "code",
   "execution_count": 14,
   "metadata": {},
   "outputs": [],
   "source": [
    "##CONECTANDO A API DO BC PARA VALORES ATUALIZADOS DO DOLAR\n",
    "webUrl = \"https://olinda.bcb.gov.br/olinda/servico/PTAX/versao/v1/odata/CotacaoDolarPeriodo(dataInicial=@dataInicial,dataFinalCotacao=@dataFinalCotacao)?@dataInicial=%2701%2F01%2F2021%27&@dataFinalCotacao=%27{0}%27&$top=400&$format=json&$select=cotacaoCompra,cotacaoVenda,dataHoraCotacao\".format(today_fun_dolar)\n",
    "request_dolar = requests.get(webUrl)\n",
    "data_dolar = request_dolar.json()\n",
    "df_dolar = pd.json_normalize(data_dolar, \"value\")"
   ]
  },
  {
   "cell_type": "code",
   "execution_count": 16,
   "metadata": {},
   "outputs": [],
   "source": [
    "df_org_inapp_ios['Customer User ID'] = df_org_inapp_ios['Customer User ID'].apply(str)\n",
    "df_inapp_ios['Customer User ID'] = df_org_inapp_ios['Customer User ID'].apply(str)\n",
    "df_org_inapp_android['Customer User ID'] = df_org_inapp_ios['Customer User ID'].apply(str)\n",
    "df_inapp_android['Customer User ID'] = df_org_inapp_ios['Customer User ID'].apply(str)"
   ]
  },
  {
   "cell_type": "code",
   "execution_count": 17,
   "metadata": {},
   "outputs": [],
   "source": [
    "df_org_inapp_ios['Customer User ID'] = df_org_inapp_ios['Customer User ID'].replace('\\.0', '', regex=True)\n",
    "df_inapp_ios['Customer User ID'] = df_org_inapp_ios['Customer User ID'].replace('\\.0', '', regex=True)\n",
    "df_org_inapp_android['Customer User ID'] = df_org_inapp_ios['Customer User ID'].replace('\\.0', '', regex=True)\n",
    "df_inapp_android['Customer User ID'] = df_org_inapp_ios['Customer User ID'].replace('\\.0', '', regex=True)"
   ]
  },
  {
   "cell_type": "code",
   "execution_count": 18,
   "metadata": {},
   "outputs": [],
   "source": [
    "df_pedidos['E-mail'] = 'xx'\n",
    "df_pedidos = df_pedidos.rename(columns={'Nome Fantasia': 'Revenda', 'Canal': 'Canal Hub'})"
   ]
  },
  {
   "cell_type": "code",
   "execution_count": 19,
   "metadata": {},
   "outputs": [
    {
     "data": {
      "text/plain": [
       "2021-11-29 00:10:46    1\n",
       "2021-11-29 00:11:34    1\n",
       "2021-11-29 00:25:42    1\n",
       "2021-11-29 01:19:30    1\n",
       "2021-11-29 01:21:13    1\n",
       "                      ..\n",
       "2021-11-30 23:26:13    1\n",
       "2021-11-30 23:31:41    1\n",
       "2021-11-30 23:37:03    1\n",
       "2021-11-30 23:41:24    1\n",
       "2021-11-30 23:47:49    1\n",
       "Name: Data, Length: 3363, dtype: int64"
      ]
     },
     "execution_count": 19,
     "metadata": {},
     "output_type": "execute_result"
    }
   ],
   "source": [
    "df_pedidos['Data'].value_counts().sort_index()"
   ]
  },
  {
   "cell_type": "code",
   "execution_count": 20,
   "metadata": {},
   "outputs": [],
   "source": [
    "df_installs_androidTotal = df_installs_android.append(df_org_installs_android)\n",
    "df_installs_iosTotal = df_installs_ios.append(df_org_installs_ios)"
   ]
  },
  {
   "cell_type": "code",
   "execution_count": 21,
   "metadata": {},
   "outputs": [],
   "source": [
    "df_installs_final = df_installs_androidTotal.append(df_installs_iosTotal)"
   ]
  },
  {
   "cell_type": "code",
   "execution_count": 23,
   "metadata": {},
   "outputs": [],
   "source": [
    "df_inapp_androidTotal = df_inapp_android.append(df_org_inapp_android)\n",
    "df_inapp_iosTotal = df_inapp_ios.append(df_org_inapp_ios)"
   ]
  },
  {
   "cell_type": "code",
   "execution_count": 24,
   "metadata": {},
   "outputs": [],
   "source": [
    "df_inapp_append = df_inapp_androidTotal.append(df_inapp_iosTotal)"
   ]
  },
  {
   "cell_type": "code",
   "execution_count": 25,
   "metadata": {},
   "outputs": [],
   "source": [
    "df_inapp_final = df_inapp_append.merge(df_eventos_procv, on='Event Name')"
   ]
  },
  {
   "cell_type": "code",
   "execution_count": 26,
   "metadata": {},
   "outputs": [],
   "source": [
    "def to_datetime():\n",
    "    df_installs_final['Install Time'] = pd.to_datetime(df_installs_final['Install Time'])\n",
    "    df_inapp_final['Install Time'] = pd.to_datetime(df_inapp_final['Install Time'])\n",
    "    df_inapp_final['Event Time'] = pd.to_datetime(df_inapp_final['Event Time'])\n",
    "    df_pedidos['Data'] = pd.to_datetime(df_pedidos['Data'], dayfirst=True)\n",
    "    df_dolar['dataHoraCotacao'] = pd.to_datetime(df_dolar['dataHoraCotacao'])\n",
    "    \n",
    "def new_data_hora():\n",
    "    df_pedidos['Data Ajustada'] = [d.date() for d in df_pedidos['Data']]\n",
    "    df_pedidos['Hora'] = [d.time() for d in df_pedidos['Data']]\n",
    "    df_installs_final['Data Install'] = [d.date() for d in df_installs_final['Install Time']]\n",
    "    df_installs_final['Hora Install'] = [d.time() for d in df_installs_final['Install Time']]\n",
    "    df_inapp_final['Data Install'] = [d.date() for d in df_inapp_final['Install Time']]\n",
    "    df_inapp_final['Hora Install'] = [d.time() for d in df_inapp_final['Install Time']]\n",
    "    df_inapp_final['Data Event'] = [d.date() for d in df_inapp_final['Event Time']]\n",
    "    df_inapp_final['Hora Event'] = [d.time() for d in df_inapp_final['Event Time']]\n",
    "    df_dolar['Data'] = [d.date() for d in df_dolar['dataHoraCotacao']]"
   ]
  },
  {
   "cell_type": "code",
   "execution_count": 27,
   "metadata": {},
   "outputs": [],
   "source": [
    "to_datetime()\n",
    "new_data_hora()"
   ]
  },
  {
   "cell_type": "code",
   "execution_count": 34,
   "metadata": {},
   "outputs": [
    {
     "data": {
      "text/plain": [
       "Index(['Attributed Touch Type', 'Attributed Touch Time', 'Install Time',\n",
       "       'Event Time', 'Event Name', 'Event Value', 'Event Revenue',\n",
       "       'Event Revenue Currency', 'Event Revenue USD', 'Event Source',\n",
       "       'Is Receipt Validated', 'Partner', 'Media Source', 'Channel',\n",
       "       'Keywords', 'Campaign', 'Campaign ID', 'Adset', 'Adset ID', 'Ad',\n",
       "       'Ad ID', 'Ad Type', 'Site ID', 'Sub Site ID', 'Sub Param 1',\n",
       "       'Sub Param 2', 'Sub Param 3', 'Sub Param 4', 'Sub Param 5',\n",
       "       'Cost Model', 'Cost Value', 'Cost Currency', 'Contributor 1 Partner',\n",
       "       'Contributor 1 Media Source', 'Contributor 1 Campaign',\n",
       "       'Contributor 1 Touch Type', 'Contributor 1 Touch Time',\n",
       "       'Contributor 2 Partner', 'Contributor 2 Media Source',\n",
       "       'Contributor 2 Campaign', 'Contributor 2 Touch Type',\n",
       "       'Contributor 2 Touch Time', 'Contributor 3 Partner',\n",
       "       'Contributor 3 Media Source', 'Contributor 3 Campaign',\n",
       "       'Contributor 3 Touch Type', 'Contributor 3 Touch Time', 'Region',\n",
       "       'Country Code', 'State', 'City', 'Postal Code', 'DMA', 'IP', 'WIFI',\n",
       "       'Operator', 'Carrier', 'Language', 'AppsFlyer ID', 'Advertising ID',\n",
       "       'IDFA', 'Android ID', 'Customer User ID', 'IMEI', 'IDFV', 'Platform',\n",
       "       'Device Type', 'OS Version', 'App Version', 'SDK Version', 'App ID',\n",
       "       'App Name', 'Bundle ID', 'Is Retargeting',\n",
       "       'Retargeting Conversion Type', 'Attribution Lookback',\n",
       "       'Reengagement Window', 'Is Primary Attribution', 'User Agent',\n",
       "       'HTTP Referrer', 'Original URL', 'Evento', 'Data Install',\n",
       "       'Hora Install', 'Data Event', 'Hora Event'],\n",
       "      dtype='object')"
      ]
     },
     "execution_count": 34,
     "metadata": {},
     "output_type": "execute_result"
    }
   ],
   "source": [
    "df_inapp_final.columns"
   ]
  },
  {
   "cell_type": "code",
   "execution_count": 35,
   "metadata": {},
   "outputs": [],
   "source": [
    "df_inapp_final['Origem'] = df_inapp_final['Device Type']\n",
    "df_inapp_final['Media Source'].fillna(\"Orgânico\", inplace=True)"
   ]
  },
  {
   "cell_type": "code",
   "execution_count": 3,
   "metadata": {
    "collapsed": true
   },
   "outputs": [
    {
     "ename": "NameError",
     "evalue": "name 'df_clientes' is not defined",
     "output_type": "error",
     "traceback": [
      "\u001b[1;31m---------------------------------------------------------------------------\u001b[0m",
      "\u001b[1;31mNameError\u001b[0m                                 Traceback (most recent call last)",
      "\u001b[1;32m<ipython-input-3-f1af8b44c6a2>\u001b[0m in \u001b[0;36m<module>\u001b[1;34m\u001b[0m\n\u001b[1;32m----> 1\u001b[1;33m \u001b[0mjohn\u001b[0m \u001b[1;33m=\u001b[0m \u001b[0mdf_clientes\u001b[0m\u001b[1;33m[\u001b[0m\u001b[0mdf_clientes\u001b[0m\u001b[1;33m[\u001b[0m\u001b[1;34m'ID'\u001b[0m\u001b[1;33m]\u001b[0m\u001b[1;33m.\u001b[0m\u001b[0misna\u001b[0m\u001b[1;33m(\u001b[0m\u001b[1;33m)\u001b[0m \u001b[1;33m==\u001b[0m \u001b[1;32mFalse\u001b[0m\u001b[1;33m]\u001b[0m\u001b[1;33m\u001b[0m\u001b[1;33m\u001b[0m\u001b[0m\n\u001b[0m\u001b[0;32m      2\u001b[0m \u001b[1;31m#john = df_null[df_null['ID'].map(len) > 2]\u001b[0m\u001b[1;33m\u001b[0m\u001b[1;33m\u001b[0m\u001b[1;33m\u001b[0m\u001b[0m\n\u001b[0;32m      3\u001b[0m \u001b[0mjohn\u001b[0m\u001b[1;33m\u001b[0m\u001b[1;33m\u001b[0m\u001b[0m\n",
      "\u001b[1;31mNameError\u001b[0m: name 'df_clientes' is not defined"
     ]
    }
   ],
   "source": [
    "#DISCLOSED\n",
    "john = df_clientes[df_clientes['ID'].isna() == False]\n",
    "#john = df_null[df_null['ID'].map(len) > 2]\n",
    "john"
   ]
  },
  {
   "cell_type": "code",
   "execution_count": 38,
   "metadata": {},
   "outputs": [],
   "source": [
    "df_dict_clientes = john[['ID', 'Auth Token']]\n",
    "df_dict_clientes = df_dict_clientes.rename(columns={'ID': 'ID Cliente'})\n",
    "df_dict_clientes['ID Cliente'] = df_dict_clientes['ID Cliente'].apply(str)\n",
    "df_dict_inapp = df_inapp_final[['Customer User ID', 'Media Source', 'Campaign', 'Adset', 'Ad']]\n",
    "df_dict_inapp = df_dict_inapp.rename(columns={'Customer User ID': 'ID Cliente', 'Media Source': 'Mídia', \"Campaign\": \"Campanha\", \"Adset\": \"Grupo de Anúncio\", \"Ad\": \"Anúncio\"})\n",
    "df_dict_clientes.drop_duplicates(inplace=True)\n",
    "df_dict_inapp.drop_duplicates(inplace=True)"
   ]
  },
  {
   "cell_type": "code",
   "execution_count": 39,
   "metadata": {},
   "outputs": [],
   "source": [
    "df_pedidos['ID Cliente'] = df_pedidos['ID Cliente'].apply(str)"
   ]
  },
  {
   "cell_type": "code",
   "execution_count": 4,
   "metadata": {
    "collapsed": true
   },
   "outputs": [
    {
     "ename": "NameError",
     "evalue": "name 'pd' is not defined",
     "output_type": "error",
     "traceback": [
      "\u001b[1;31m---------------------------------------------------------------------------\u001b[0m",
      "\u001b[1;31mNameError\u001b[0m                                 Traceback (most recent call last)",
      "\u001b[1;32m<ipython-input-4-3f729e4caff3>\u001b[0m in \u001b[0;36m<module>\u001b[1;34m\u001b[0m\n\u001b[1;32m----> 1\u001b[1;33m \u001b[0mdf_pedidos_clien\u001b[0m \u001b[1;33m=\u001b[0m \u001b[0mpd\u001b[0m\u001b[1;33m.\u001b[0m\u001b[0mmerge\u001b[0m\u001b[1;33m(\u001b[0m\u001b[0mdf_pedidos\u001b[0m\u001b[1;33m,\u001b[0m \u001b[0mdf_dict_clientes\u001b[0m\u001b[1;33m,\u001b[0m \u001b[0mon\u001b[0m\u001b[1;33m=\u001b[0m\u001b[1;34m'ID Cliente'\u001b[0m\u001b[1;33m,\u001b[0m \u001b[0mhow\u001b[0m\u001b[1;33m=\u001b[0m\u001b[1;34m'inner'\u001b[0m\u001b[1;33m)\u001b[0m\u001b[1;33m\u001b[0m\u001b[1;33m\u001b[0m\u001b[0m\n\u001b[0m\u001b[0;32m      2\u001b[0m \u001b[0mdf_pedidos_clien\u001b[0m\u001b[1;33m\u001b[0m\u001b[1;33m\u001b[0m\u001b[0m\n",
      "\u001b[1;31mNameError\u001b[0m: name 'pd' is not defined"
     ]
    }
   ],
   "source": [
    "#DISCLOSED\n",
    "df_pedidos_clien = pd.merge(df_pedidos, df_dict_clientes, on='ID Cliente', how='inner')\n",
    "df_pedidos_clien"
   ]
  },
  {
   "cell_type": "code",
   "execution_count": 43,
   "metadata": {},
   "outputs": [],
   "source": [
    "df_pedidos_final = pd.merge(df_pedidos_clien, df_dict_inapp, on='ID Cliente', how='left')\n",
    "#df_pedidos_final['Mídia'].fillna(\"Orgânico\", inplace=True)"
   ]
  },
  {
   "cell_type": "code",
   "execution_count": 46,
   "metadata": {},
   "outputs": [],
   "source": [
    "df_pedidos_final['Mídia'].fillna(\"Orgânico\", inplace=True)"
   ]
  },
  {
   "cell_type": "code",
   "execution_count": 49,
   "metadata": {},
   "outputs": [],
   "source": [
    "df_pedidos_final = df_pedidos_final.rename(columns={'Auth Token': 'Origem do Cliente'})"
   ]
  },
  {
   "cell_type": "code",
   "execution_count": 51,
   "metadata": {},
   "outputs": [],
   "source": [
    "df_pedidos_tratada = pd.DataFrame(df_pedidos_final[['Pesquisa', 'Pedido', 'ID Cliente', 'E-mail', 'Data', 'Data Ajustada', 'Hora', 'CNPJ', 'Revenda', 'Endereço', 'Nº', 'Complemento', 'Bairro', 'Referência', 'CEP', 'Cidade', 'UF', 'Canal Hub', 'Origem Acesso', 'Modo', 'Status', 'Data Entrega', 'Produto', 'Cupom', 'Preço', 'Quantidade', 'Vasilhame', 'Preço Vasilhame', 'Forma Pagto', 'Valor Pedido', 'Origem do Cliente', 'Mídia', 'Campanha', 'Grupo de Anúncio', 'Anúncio']])\n",
    "df_pedidos_tratada = df_pedidos_tratada.rename(columns={'ID Cliente': 'ID do Cliente', 'Data Entrega': 'Data de Entrega'})"
   ]
  },
  {
   "cell_type": "code",
   "execution_count": 54,
   "metadata": {},
   "outputs": [],
   "source": [
    "df_inapp_tratada = pd.DataFrame(df_inapp_final[['Data Event', 'Event Name', 'Evento', 'Data Install', 'Media Source', 'Channel', 'Campaign', 'State', 'City', 'Postal Code', 'AppsFlyer ID', 'Platform', 'Origem', 'Cost Value', 'Adset', 'Ad']])\n",
    "df_inapp_tratada['Channel'].fillna(\"No Channel\", inplace=True)"
   ]
  },
  {
   "cell_type": "code",
   "execution_count": 93,
   "metadata": {
    "scrolled": false
   },
   "outputs": [],
   "source": [
    "df_inapp_tratada = df_inapp_tratada.rename(columns={\"Campaign\": \"Campanha\", \"Adset\": \"Grupo de Anúncio\", \"Ad\": \"Anúncio\"})"
   ]
  },
  {
   "cell_type": "code",
   "execution_count": 57,
   "metadata": {},
   "outputs": [],
   "source": [
    "X = df_inapp_tratada.iloc[:,2].values\n",
    "re = OneHotEncoder()\n",
    "jaxle = X.reshape(-1, 1)\n",
    "jaxre = re.fit_transform(jaxle).toarray()\n",
    "bobby = pd.DataFrame(jaxre)\n",
    "bobby.columns = re.get_feature_names()"
   ]
  },
  {
   "cell_type": "code",
   "execution_count": 58,
   "metadata": {},
   "outputs": [],
   "source": [
    "def drop_prefix(self, prefix):\n",
    "    self.columns = self.columns.str.lstrip(prefix)\n",
    "    return bobby\n",
    "\n",
    "drop_prefix(bobby, 'x0_')\n",
    "\n",
    "bobby = bobby.fillna(0)"
   ]
  },
  {
   "cell_type": "code",
   "execution_count": 59,
   "metadata": {},
   "outputs": [],
   "source": [
    "df_inapp_tratada['Cliques no App'] = bobby['Clique']\n",
    "df_inapp_tratada['Adicionou ao carrinho'] = bobby['Adicionou ao carrinho']\n",
    "df_inapp_tratada['Cadastro'] = bobby['Cadastro']\n",
    "df_inapp_tratada['Forma de Pagamento'] = bobby['Formas de Pagamento']\n",
    "df_inapp_tratada['Order'] = bobby['Pedido']"
   ]
  },
  {
   "cell_type": "code",
   "execution_count": 60,
   "metadata": {},
   "outputs": [],
   "source": [
    "df_installs_final['Instalação'] = 1\n",
    "df_installs_final['Hora'] = pd.to_datetime(df_installs_final['Hora Install'], format='%H:%M:%S').dt.hour\n",
    "df_installs_final = df_installs_final.rename(columns={\"Media Source\": \"Midia\", \"Campaign\": \"Campanha\", \"State\": \"Estado\", \"City\": \"Cidade\", \"Postal Code\": \"CEP\", \"AppsFlyer ID\": \"ID\"})"
   ]
  },
  {
   "cell_type": "code",
   "execution_count": 61,
   "metadata": {},
   "outputs": [],
   "source": [
    "df_installs_tratada = pd.DataFrame(df_installs_final[['Data Install', 'Hora Install', 'Midia', 'Channel', 'Campanha', 'Estado', 'Cidade', 'CEP', 'ID', 'Platform', 'Device Type', 'Instalação', 'Hora', 'Cost Value']])\n",
    "df_installs_tratada['Midia'].fillna(\"Orgânico\", inplace=True)"
   ]
  },
  {
   "cell_type": "code",
   "execution_count": 62,
   "metadata": {},
   "outputs": [],
   "source": [
    "ss = df_gads['Target location'].str.replace(\"State of \", '')\n",
    "ss_df = pd.DataFrame(ss)\n",
    "res = ss_df['Target location'].str.normalize('NFKD')\\\n",
    "       .str.encode('ascii', errors='ignore')\\\n",
    "       .str.decode('utf-8')\n",
    "ss_gads = pd.DataFrame(res)\n",
    "df_gads['Target location'] = ss_gads"
   ]
  },
  {
   "cell_type": "code",
   "execution_count": 63,
   "metadata": {},
   "outputs": [],
   "source": [
    "ss = df_fb['Region'].str.replace(\"(\", '')\n",
    "ss2 = ss.str.replace(')', '')\n",
    "ss3 = ss2.str.replace(' state', '')\n",
    "ss3_df = pd.DataFrame(ss3)\n",
    "res = ss3_df['Region'].str.normalize('NFKD')\\\n",
    "       .str.encode('ascii', errors='ignore')\\\n",
    "       .str.decode('utf-8')\n",
    "ss_fb = pd.DataFrame(res)\n",
    "df_fb['Region'] = ss_fb"
   ]
  },
  {
   "cell_type": "code",
   "execution_count": 64,
   "metadata": {},
   "outputs": [],
   "source": [
    "ss2_gads = df_gads_2sem['Target location'].str.replace(\"State of \", '')\n",
    "ss_df2_gads = pd.DataFrame(ss2_gads)\n",
    "res2_gads = ss_df2_gads['Target location'].str.normalize('NFKD')\\\n",
    "       .str.encode('ascii', errors='ignore')\\\n",
    "       .str.decode('utf-8')\n",
    "ss2_gads_fin = pd.DataFrame(res2_gads)\n",
    "df_gads_2sem['Target location'] = ss2_gads_fin"
   ]
  },
  {
   "cell_type": "code",
   "execution_count": 65,
   "metadata": {},
   "outputs": [],
   "source": [
    "ss_fb_2sem = df_fb_2sem['Region'].str.replace(\"(\", '')\n",
    "ss2_fb_2sem = ss_fb_2sem.str.replace(')', '')\n",
    "ss3_fb_2sem = ss2_fb_2sem.str.replace(' state', '')\n",
    "ss3_df_fb_2sem = pd.DataFrame(ss3_fb_2sem)\n",
    "res2_fb = ss3_df_fb_2sem['Region'].str.normalize('NFKD')\\\n",
    "       .str.encode('ascii', errors='ignore')\\\n",
    "       .str.decode('utf-8')\n",
    "ss_fbx_2sem = pd.DataFrame(res2_fb)\n",
    "df_fb_2sem['Region'] = ss_fbx_2sem"
   ]
  },
  {
   "cell_type": "code",
   "execution_count": 66,
   "metadata": {},
   "outputs": [],
   "source": [
    "res_ped = df_pedidos_tratada['Cidade'].str.normalize('NFKD')\\\n",
    "       .str.encode('ascii', errors='ignore')\\\n",
    "       .str.decode('utf-8')\n",
    "ss_pedidos = pd.DataFrame(res_ped)\n",
    "df_pedidos_tratada['Cidade'] = ss_pedidos"
   ]
  },
  {
   "cell_type": "code",
   "execution_count": 94,
   "metadata": {},
   "outputs": [],
   "source": [
    "import sqlite3\n",
    "\n",
    "dbfile = sqlite3.connect(r'C:\\Users\\User\\db.db')\n",
    "cur = dbfile.cursor()\n",
    "dbfile.commit()\n",
    "\n",
    "#dbfile2 = sqlite3.connect(r'C:\\Users\\User\\db2.db')\n",
    "#cur2 = dbfile2.cursor()\n",
    "#dbfile2.commit()"
   ]
  },
  {
   "cell_type": "code",
   "execution_count": 68,
   "metadata": {},
   "outputs": [],
   "source": [
    "#cur.execute(\"\"\"CREATE TABLE 'Dolar_Dia' ('cotacaoCompra', 'cotacaoVenda', 'dataHoraCotacao', 'Data')\"\"\")\n",
    "#cur2.execute(\"\"\"CREATE TABLE 'Dolar_Dia' ('cotacaoCompra', 'cotacaoVenda', 'dataHoraCotacao', 'Data')\"\"\")"
   ]
  },
  {
   "cell_type": "code",
   "execution_count": 96,
   "metadata": {},
   "outputs": [],
   "source": [
    "table_name1 = 'Jornada_App_test'\n",
    "table_name2 = 'Pedidos App'\n",
    "table_name3 = 'Instalações'\n",
    "table_name4 = 'FB'\n",
    "table_name5 = 'Google Ads'\n",
    "table_name6 = 'Dolar_Dia'\n",
    "\n",
    "\n",
    "def append_tables(): \n",
    "    \n",
    "    df_inapp_tratada.to_sql(table_name1, dbfile, if_exists='append', index=False),\n",
    "    df_pedidos_tratada.to_sql(table_name2, dbfile, if_exists='append', index=False),\n",
    "    df_installs_tratada.to_sql(table_name3, dbfile, if_exists='append', index=False),\n",
    "    df_fb.to_sql(table_name4, dbfile, if_exists='replace', index=False),\n",
    "    df_gads.to_sql(table_name5, dbfile, if_exists='replace', index=False),\n",
    "    df_dolar.to_sql(table_name6, dbfile, if_exists='replace', index=False)\n",
    "    \n",
    "    #df_inapp_tratada.to_sql(table_name1, dbfile2, if_exists='append', index=False),\n",
    "    #df_pedidos_tratada.to_sql(table_name2, dbfile2, if_exists='append', index=False),\n",
    "    #df_installs_tratada.to_sql(table_name3, dbfile2, if_exists='append', index=False),\n",
    "    #df_fb_2sem.to_sql(table_name4, dbfile2, if_exists='replace', index=False),\n",
    "    #df_gads_2sem.to_sql(table_name5, dbfile2, if_exists='replace', index=False),\n",
    "    #df_dolar.to_sql(table_name6, dbfile2, if_exists='replace', index=False)"
   ]
  },
  {
   "cell_type": "code",
   "execution_count": 97,
   "metadata": {},
   "outputs": [],
   "source": [
    "def delete_week():\n",
    "    cur.execute(\"\"\"DELETE FROM Jornada_App_test WHERE DATE(\"Data Event\") >= DATE('now', '-2 days')\"\"\")\n",
    "    cur.execute(\"\"\"DELETE FROM 'Pedidos App' WHERE DATE(\"Data Ajustada\") >= DATE('now', '-2 days')\"\"\")\n",
    "    cur.execute(\"\"\"DELETE FROM 'Instalações' WHERE DATE(\"Data Install\") >= DATE('now', '-2 days')\"\"\")\n",
    "    dbfile.commit()\n",
    "    \n",
    "    #cur2.execute(\"\"\"DELETE FROM Jornada_App_test WHERE DATE(\"Data Event\") >= DATE('now', '-2 days')\"\"\")\n",
    "    #cur2.execute(\"\"\"DELETE FROM 'Pedidos App' WHERE DATE(\"Data Ajustada\") >= DATE('now', '-7 days')\"\"\")\n",
    "    #cur2.execute(\"\"\"DELETE FROM 'Instalações' WHERE DATE(\"Data Install\") >= DATE('now', '-2 days')\"\"\")\n",
    "    #dbfile2.commit()"
   ]
  },
  {
   "cell_type": "code",
   "execution_count": 98,
   "metadata": {},
   "outputs": [],
   "source": [
    "def delete_nulls():\n",
    "                    \n",
    "    cur.execute(\"DELETE FROM Jornada_App_test WHERE Jornada_App_test.'Data Event'='';\"),\n",
    "    cur.execute(\"DELETE FROM 'Pedidos App' WHERE 'Pedidos App'.Data='';\"),\n",
    "    cur.execute(\"DELETE FROM 'Instalações' WHERE Instalações.Hora='';\"),\n",
    "    cur.execute(\"DELETE FROM 'FB' WHERE 'FB'.Date='';\"),\n",
    "    cur.execute(\"DELETE FROM 'Google Ads' WHERE 'Google Ads'.Impressions='';\")\n",
    "    dbfile.commit()\n",
    "    \n",
    "    #cur2.execute(\"DELETE FROM Jornada_App_test WHERE Jornada_App_test.'Data Event'='';\"),\n",
    "    #cur2.execute(\"DELETE FROM 'Pedidos App' WHERE 'Pedidos App'.Data='';\"),\n",
    "    #cur2.execute(\"DELETE FROM 'Instalações' WHERE Instalações.Hora='';\"),\n",
    "    #cur2.execute(\"DELETE FROM 'FB' WHERE 'FB'.Date='';\"),\n",
    "    #cur2.execute(\"DELETE FROM 'Google Ads' WHERE 'Google Ads'.Impressions='';\")\n",
    "    #dbfile2.commit()"
   ]
  },
  {
   "cell_type": "code",
   "execution_count": 99,
   "metadata": {},
   "outputs": [],
   "source": [
    "def bases_commas():\n",
    "    \n",
    "    cur.execute(\"\"\"\n",
    "    UPDATE \n",
    "        FB\n",
    "    SET\n",
    "        Cost = REPLACE(Cost, '.',',')\n",
    "    WHERE\n",
    "        Cost IS NOT NULL\"\"\")\n",
    "    \n",
    "    cur.execute(\"\"\"\n",
    "    UPDATE \n",
    "        \"Pedidos App\"\n",
    "    SET\n",
    "        \"Valor Pedido\" = REPLACE(\"Valor Pedido\", '.',',')\n",
    "    WHERE\n",
    "        \"Valor Pedido\" IS NOT NULL;\"\"\")\n",
    "    \n",
    "    cur.execute(\"\"\"\n",
    "    UPDATE \n",
    "        \"Jornada_App_test\"\n",
    "    SET\n",
    "        \"Cost Value\" = REPLACE(\"Cost Value\", '.',',')\n",
    "    WHERE\n",
    "        \"Cost Value\" IS NOT NULL;\"\"\")\n",
    "    \n",
    "    cur.execute(\"\"\"\n",
    "    UPDATE \n",
    "        \"Instalações\"\n",
    "    SET\n",
    "        \"Cost Value\" = REPLACE(\"Cost Value\", '.',',')\n",
    "    WHERE\n",
    "        \"Cost Value\" IS NOT NULL;\"\"\")\n",
    "    \n",
    "    #cur2.execute(\"\"\"\n",
    "    #UPDATE \n",
    "    #    FB\n",
    "    #SET\n",
    "    #    Cost = REPLACE(Cost, '.',',')\n",
    "    #WHERE\n",
    "    #    Cost IS NOT NULL\"\"\")\n",
    "    \n",
    "    #cur2.execute(\"\"\"\n",
    "    #UPDATE \n",
    "    #    \"Pedidos App\"\n",
    "    #SET\n",
    "    #    \"Valor Pedido\" = REPLACE(\"Valor Pedido\", '.',',')\n",
    "    #WHERE\n",
    "    #    \"Valor Pedido\" IS NOT NULL;\"\"\")\n",
    "    \n",
    "    #cur2.execute(\"\"\"\n",
    "    #UPDATE \n",
    "    #   \"Jornada_App_test\"\n",
    "    #SET\n",
    "    #    \"Cost Value\" = REPLACE(\"Cost Value\", '.',',')\n",
    "    #WHERE\n",
    "    #    \"Cost Value\" IS NOT NULL;\"\"\")\n",
    "    \n",
    "    #cur2.execute(\"\"\"\n",
    "    #UPDATE \n",
    "    #    \"Instalações\"\n",
    "    #SET\n",
    "    #    \"Cost Value\" = REPLACE(\"Cost Value\", '.',',')\n",
    "    #WHERE\n",
    "    #    \"Cost Value\" IS NOT NULL;\"\"\")"
   ]
  },
  {
   "cell_type": "code",
   "execution_count": 100,
   "metadata": {},
   "outputs": [],
   "source": [
    "def delete_content_view():\n",
    "    cur.execute(\"\"\"\n",
    "    DELETE FROM Jornada_App_test\n",
    "    WHERE \"Data Event\" > '2021-07-02'\n",
    "    AND \"Event Name\" = 'af_content_view';\"\"\")\n",
    "    \n",
    "    #cur2.execute(\"\"\"\n",
    "    #DELETE FROM Jornada_App_test\n",
    "    #WHERE \"Data Event\" > '2021-07-02'\n",
    "    #AND \"Event Name\" = 'af_content_view';\"\"\")\n",
    "    \n",
    "    cur.execute(\"\"\"\n",
    "    DELETE FROM Jornada_App_test\n",
    "    WHERE \"Event Name\" = 'af_ad_click';\"\"\")\n",
    "    \n",
    "    #cur2.execute(\"\"\"\n",
    "    #DELETE FROM Jornada_App_test\n",
    "    #WHERE \"Event Name\" = 'af_ad_click';\"\"\")"
   ]
  },
  {
   "cell_type": "code",
   "execution_count": 101,
   "metadata": {
    "scrolled": false
   },
   "outputs": [
    {
     "data": {
      "text/plain": [
       "2021-11-29    668454\n",
       "2021-11-30    431747\n",
       "Name: Data Event, dtype: int64"
      ]
     },
     "execution_count": 101,
     "metadata": {},
     "output_type": "execute_result"
    }
   ],
   "source": [
    "df_inapp_tratada['Data Event'].value_counts().sort_index()"
   ]
  },
  {
   "cell_type": "code",
   "execution_count": 102,
   "metadata": {},
   "outputs": [
    {
     "data": {
      "text/plain": [
       "2021-11-29    5246\n",
       "2021-11-30    3853\n",
       "Name: Data Ajustada, dtype: int64"
      ]
     },
     "execution_count": 102,
     "metadata": {},
     "output_type": "execute_result"
    }
   ],
   "source": [
    "df_pedidos_tratada['Data Ajustada'].value_counts().sort_index()"
   ]
  },
  {
   "cell_type": "code",
   "execution_count": 103,
   "metadata": {},
   "outputs": [
    {
     "data": {
      "text/plain": [
       "2021-11-29    8020\n",
       "2021-11-30    6347\n",
       "Name: Data Install, dtype: int64"
      ]
     },
     "execution_count": 103,
     "metadata": {},
     "output_type": "execute_result"
    }
   ],
   "source": [
    "df_installs_tratada['Data Install'].value_counts().sort_index()"
   ]
  },
  {
   "cell_type": "code",
   "execution_count": 104,
   "metadata": {},
   "outputs": [
    {
     "data": {
      "text/plain": [
       "2021-01-01    20\n",
       "2021-01-02    20\n",
       "2021-01-03    20\n",
       "2021-01-04    20\n",
       "2021-01-05    20\n",
       "              ..\n",
       "2021-11-26    22\n",
       "2021-11-27    22\n",
       "2021-11-28    23\n",
       "2021-11-29    23\n",
       "2021-11-30    23\n",
       "Name: Date, Length: 334, dtype: int64"
      ]
     },
     "execution_count": 104,
     "metadata": {},
     "output_type": "execute_result"
    }
   ],
   "source": [
    "df_fb['Date'].value_counts().sort_index()"
   ]
  },
  {
   "cell_type": "code",
   "execution_count": 105,
   "metadata": {},
   "outputs": [
    {
     "data": {
      "text/plain": [
       "              138262\n",
       "2021-09-16       916\n",
       "2021-09-17       954\n",
       "2021-09-18       948\n",
       "2021-09-19       954\n",
       "               ...  \n",
       "2021-11-26      1461\n",
       "2021-11-27      1143\n",
       "2021-11-28      1086\n",
       "2021-11-29      1042\n",
       "2021-11-30      1034\n",
       "Name: Date, Length: 77, dtype: int64"
      ]
     },
     "execution_count": 105,
     "metadata": {},
     "output_type": "execute_result"
    }
   ],
   "source": [
    "df_gads['Date'].value_counts().sort_index()"
   ]
  },
  {
   "cell_type": "code",
   "execution_count": null,
   "metadata": {},
   "outputs": [],
   "source": [
    "delete_week()\n",
    "append_tables()\n",
    "bases_commas()\n",
    "delete_content_view()\n",
    "delete_nulls()"
   ]
  },
  {
   "cell_type": "code",
   "execution_count": 110,
   "metadata": {},
   "outputs": [
    {
     "name": "stderr",
     "output_type": "stream",
     "text": [
      "[NbConvertApp] Converting notebook Ultragaz_AppsFlyerAPI_NewAppDashboard-Copy1.ipynb to script\n",
      "[NbConvertApp] Writing 28231 bytes to Ultragaz_AppsFlyerAPI_NewAppDashboard-Copy1.py\n"
     ]
    }
   ],
   "source": [
    "get_ipython().system('jupyter nbconvert --to script NewAppDashboard-Copy1.ipynb')"
   ]
  }
 ],
 "metadata": {
  "kernelspec": {
   "display_name": "Python 3",
   "language": "python",
   "name": "python3"
  },
  "language_info": {
   "codemirror_mode": {
    "name": "ipython",
    "version": 3
   },
   "file_extension": ".py",
   "mimetype": "text/x-python",
   "name": "python",
   "nbconvert_exporter": "python",
   "pygments_lexer": "ipython3",
   "version": "3.7.4"
  }
 },
 "nbformat": 4,
 "nbformat_minor": 4
}
